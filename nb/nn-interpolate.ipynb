{
 "cells": [
  {
   "cell_type": "code",
   "execution_count": 1,
   "id": "6d5061f5",
   "metadata": {
    "ExecuteTime": {
     "end_time": "2024-03-24T14:28:38.690738Z",
     "start_time": "2024-03-24T14:28:36.778046Z"
    }
   },
   "outputs": [],
   "source": [
    "from time import time\n",
    "\n",
    "import numpy as np\n",
    "import matplotlib.pyplot as plt\n",
    "import torch\n",
    "import torch.nn    as nn\n",
    "import torch.optim as optim\n",
    "\n",
    "from torch.utils.data import Dataset\n",
    "from torch.utils.data import Subset\n",
    "from torch.utils.data import DataLoader\n",
    "\n",
    "from collections import defaultdict"
   ]
  },
  {
   "cell_type": "code",
   "execution_count": 2,
   "id": "249c99e2",
   "metadata": {
    "ExecuteTime": {
     "end_time": "2024-03-24T14:28:38.709432Z",
     "start_time": "2024-03-24T14:28:38.693139Z"
    }
   },
   "outputs": [],
   "source": [
    "%matplotlib inline"
   ]
  },
  {
   "cell_type": "markdown",
   "id": "fe4c4f20",
   "metadata": {},
   "source": [
    "# Parameters"
   ]
  },
  {
   "cell_type": "code",
   "execution_count": 31,
   "id": "0de99055",
   "metadata": {
    "ExecuteTime": {
     "end_time": "2024-03-24T14:41:19.215391Z",
     "start_time": "2024-03-24T14:41:19.025402Z"
    }
   },
   "outputs": [
    {
     "data": {
      "text/plain": [
       "<matplotlib.image.AxesImage at 0x78bb5c71dd80>"
      ]
     },
     "execution_count": 31,
     "metadata": {},
     "output_type": "execute_result"
    },
    {
     "data": {
      "image/png": "[encoded data removed]",
      "text/plain": [
       "<Figure size 640x480 with 1 Axes>"
      ]
     },
     "metadata": {},
     "output_type": "display_data"
    }
   ],
   "source": [
    "rmax            = 50\n",
    "zemission       =  5 \n",
    "nbins           = 2**6\n",
    "binsize         = 2*rmax/nbins\n",
    "xbins           = -rmax + np.arange(nbins+1)*binsize\n",
    "ybins           = xbins\n",
    "xybins          = xbins, ybins\n",
    "sampling_freq   = 8\n",
    "sampling_offset = sampling_freq//2\n",
    "mask1d          = ((sampling_offset + np.arange(xbins.size-1)) % sampling_freq == 0)\n",
    "nsipms_axis     = np.count_nonzero(mask1d)\n",
    "nsipms          = nsipms_axis**2\n",
    "xmask           = np.repeat(mask1d, nbins).reshape(nbins, nbins)\n",
    "ymask           = np.tile  (mask1d, nbins).reshape(nbins, nbins)\n",
    "mask            = xmask & ymask\n",
    "plt.imshow(mask.astype(int))"
   ]
  },
  {
   "cell_type": "code",
   "execution_count": 32,
   "id": "fafc324d",
   "metadata": {
    "ExecuteTime": {
     "end_time": "2024-03-24T14:41:24.588581Z",
     "start_time": "2024-03-24T14:41:24.582918Z"
    }
   },
   "outputs": [],
   "source": [
    "def generate_flash(x0=0, y0=0, z0=zemission, n=10**6):\n",
    "    costheta = np.random.uniform(0,       1, size=n)\n",
    "    phi      = np.random.uniform(0, 2*np.pi, size=n)\n",
    "    x        = z0 * (costheta**-2-1)**0.5 * np.cos(phi)\n",
    "    y        = x  * np.tan(phi)\n",
    "    x += x0\n",
    "    y += y0\n",
    "    return x, y\n",
    "\n",
    "def generate_image(x, y):\n",
    "    counts = np.histogram2d(x, y, xybins)[0].astype(np.float32)\n",
    "    masked = counts[mask].reshape(nsipms_axis, nsipms_axis)\n",
    "    return counts, masked\n",
    "\n",
    "def generate_event(*args, **kwargs):\n",
    "    x, y = generate_flash(*args, **kwargs)\n",
    "    return generate_image(x, y)"
   ]
  },
  {
   "cell_type": "markdown",
   "id": "97cf9213",
   "metadata": {},
   "source": [
    "# Demo"
   ]
  },
  {
   "cell_type": "code",
   "execution_count": 33,
   "id": "657537db",
   "metadata": {
    "ExecuteTime": {
     "end_time": "2024-03-24T14:41:25.170025Z",
     "start_time": "2024-03-24T14:41:24.982514Z"
    }
   },
   "outputs": [],
   "source": [
    "x, y = generate_flash(5, -11)\n",
    "a, b = generate_image(x, y)"
   ]
  },
  {
   "cell_type": "code",
   "execution_count": 34,
   "id": "266117dc",
   "metadata": {
    "ExecuteTime": {
     "end_time": "2024-03-24T14:41:25.837895Z",
     "start_time": "2024-03-24T14:41:25.462651Z"
    }
   },
   "outputs": [
    {
     "data": {
      "image/png": "[encoded data removed]",
      "text/plain": [
       "<Figure size 640x480 with 1 Axes>"
      ]
     },
     "metadata": {},
     "output_type": "display_data"
    },
    {
     "data": {
      "image/png": "[encoded data removed]",
      "text/plain": [
       "<Figure size 640x480 with 1 Axes>"
      ]
     },
     "metadata": {},
     "output_type": "display_data"
    }
   ],
   "source": [
    "plt.imshow(a), plt.figure(), plt.imshow(b);"
   ]
  },
  {
   "cell_type": "markdown",
   "id": "27d73c4e",
   "metadata": {},
   "source": [
    "# NN architecture"
   ]
  },
  {
   "cell_type": "code",
   "execution_count": 65,
   "id": "f78332b4",
   "metadata": {
    "ExecuteTime": {
     "end_time": "2024-03-24T14:49:21.275116Z",
     "start_time": "2024-03-24T14:49:21.260788Z"
    }
   },
   "outputs": [],
   "source": [
    "class NN_v0(nn.Module):\n",
    "    def __init__(self):\n",
    "        super().__init__()\n",
    "        size     = 2**6\n",
    "        self.layer1 = nn.Conv2d     (     1, nsipms, nsipms*2, padding=1, dtype=torch.float64)\n",
    "        self.norm1  = nn.BatchNorm2d(size*1,                       dtype=torch.float64)\n",
    "        self.layer2 = nn.Conv2d     (size*1, size*2, 3, padding=1, dtype=torch.float64)\n",
    "        self.norm2  = nn.BatchNorm2d(size*2,                       dtype=torch.float64)\n",
    "        self.layer3 = nn.Conv2d     (size*2, size*4, 2, padding=1, dtype=torch.float64)\n",
    "        self.norm3  = nn.BatchNorm2d(size*4,                       dtype=torch.float64)\n",
    "        self.layer4 = nn.Linear     (size*4, nout*2,               dtype=torch.float64)\n",
    "\n",
    "        self.pool   = nn.MaxPool2d(2, 4)\n",
    "        self.drop   = nn.Dropout(p=0.1)\n",
    "\n",
    "    def forward(self, x):\n",
    "        nsipms_side = self.nsipms_side\n",
    "        x = x.reshape(len(x), 1, nsipms_side, nsipms_side)\n",
    "        x = self.pool(self.norm1(fnal.leaky_relu(self.layer1(x))))\n",
    "        x = self.pool(self.norm2(fnal.leaky_relu(self.layer2(x))))\n",
    "        x = self.pool(self.norm3(fnal.leaky_relu(self.layer3(x))))\n",
    "        x = x.flatten(start_dim=1)\n",
    "        x =                                      self.layer4(x)\n",
    "        return x\n",
    "\n",
    "class NN_v1(nn.Module):\n",
    "    def __init__(self):\n",
    "        super().__init__()\n",
    "        scale_factor = sampling_freq\n",
    "        out          = scale_factor**2\n",
    "        self.conv1 = nn.Conv2d(in_channels= 1, out_channels=64 , kernel_size=9, padding=4)\n",
    "        self.conv2 = nn.Conv2d(in_channels=64, out_channels=32 , kernel_size=5, padding=2)\n",
    "        self.conv3 = nn.Conv2d(in_channels=32, out_channels=out, kernel_size=5, padding=2)\n",
    "        self.pixel_shuffle = nn.PixelShuffle(scale_factor)\n",
    "\n",
    "    def forward(self, x):\n",
    "        x = x.reshape(*np.insert(np.shape(x), 1, 1));# print(\"reshape\", x.shape)\n",
    "        x = torch.relu(self.conv1(x))               ;# print(\"conv1\", x.shape)\n",
    "        x = torch.relu(self.conv2(x))               ;# print(\"conv2\", x.shape)\n",
    "        x = self.conv3(x)                           ;# print(\"conv3\", x.shape)\n",
    "        x = self.pixel_shuffle(x)                   ;# print(\"reshuffle\", x.shape)\n",
    "        return x"
   ]
  },
  {
   "cell_type": "code",
   "execution_count": 66,
   "id": "286454b8",
   "metadata": {
    "ExecuteTime": {
     "end_time": "2024-03-24T14:49:21.758477Z",
     "start_time": "2024-03-24T14:49:21.754988Z"
    }
   },
   "outputs": [],
   "source": [
    "class DS(Dataset):\n",
    "    def __len__(self):\n",
    "        return 1\n",
    "\n",
    "    def __getitem__(self, i):\n",
    "        return generate_event()"
   ]
  },
  {
   "cell_type": "code",
   "execution_count": 67,
   "id": "a1d20b95",
   "metadata": {
    "ExecuteTime": {
     "end_time": "2024-03-24T14:49:21.947923Z",
     "start_time": "2024-03-24T14:49:21.939434Z"
    }
   },
   "outputs": [
    {
     "name": "stdout",
     "output_type": "stream",
     "text": [
      "Training   data:    800\n",
      "Validation data:    100\n",
      "Testing    data:    100\n"
     ]
    }
   ],
   "source": [
    "ds = DS()\n",
    "\n",
    "batch_size = 100\n",
    "\n",
    "n_train = 800\n",
    "n_valid = 100\n",
    "n_test  = 100\n",
    "\n",
    "idx_train = np.arange(n_train)\n",
    "idx_valid = np.arange(n_valid) + n_train\n",
    "idx_test  = np.arange(n_test ) + n_train + n_valid\n",
    "\n",
    "ds_train = Subset(ds, idx_train); print(f\"Training   data: {len(ds_train):>6d}\")\n",
    "ds_valid = Subset(ds, idx_valid); print(f\"Validation data: {len(ds_valid):>6d}\")\n",
    "ds_test  = Subset(ds, idx_test ); print(f\"Testing    data: {len(ds_test) :>6d}\")\n",
    "\n",
    "loader_train = DataLoader(ds_train, batch_size=batch_size, shuffle=False)\n",
    "loader_valid = DataLoader(ds_valid, batch_size=batch_size, shuffle=False)\n",
    "loader_test  = DataLoader(ds_test , batch_size=batch_size, shuffle=False)"
   ]
  },
  {
   "cell_type": "markdown",
   "id": "b4d501e5",
   "metadata": {},
   "source": [
    "## Training"
   ]
  },
  {
   "cell_type": "code",
   "execution_count": 68,
   "id": "55ba9385",
   "metadata": {
    "ExecuteTime": {
     "end_time": "2024-03-24T14:52:36.661298Z",
     "start_time": "2024-03-24T14:49:22.812261Z"
    }
   },
   "outputs": [
    {
     "name": "stdout",
     "output_type": "stream",
     "text": [
      "seed = 14285152040319158614\n"
     ]
    },
    {
     "name": "stderr",
     "output_type": "stream",
     "text": [
      "/nix/store/kms0fpbbq2w006c97jsi0glzfmcakvq0-python3-3.10.13-env/lib/python3.10/site-packages/torch/nn/modules/loss.py:536: UserWarning: Using a target size (torch.Size([100, 64, 64])) that is different to the input size (torch.Size([100, 1, 64, 64])). This will likely lead to incorrect results due to broadcasting. Please ensure they have the same size.\n",
      "  return F.mse_loss(input, target, reduction=self.reduction)\n"
     ]
    },
    {
     "name": "stdout",
     "output_type": "stream",
     "text": [
      "Epoch [1/20], Loss: 894761.1875, Val loss: 808354.7, LR:  0.0010 DT : 175.0\n"
     ]
    },
    {
     "ename": "KeyboardInterrupt",
     "evalue": "",
     "output_type": "error",
     "traceback": [
      "\u001b[0;31m---------------------------------------------------------------------------\u001b[0m",
      "\u001b[0;31mKeyboardInterrupt\u001b[0m                         Traceback (most recent call last)",
      "Cell \u001b[0;32mIn[68], line 18\u001b[0m\n\u001b[1;32m     16\u001b[0m model\u001b[38;5;241m.\u001b[39mtrain() \u001b[38;5;66;03m# inform the model that we are training\u001b[39;00m\n\u001b[1;32m     17\u001b[0m optimizer\u001b[38;5;241m.\u001b[39mzero_grad()\n\u001b[0;32m---> 18\u001b[0m \u001b[38;5;28;01mfor\u001b[39;00m i, (image, sipms) \u001b[38;5;129;01min\u001b[39;00m \u001b[38;5;28menumerate\u001b[39m(loader_train, start\u001b[38;5;241m=\u001b[39m\u001b[38;5;241m1\u001b[39m):\n\u001b[1;32m     19\u001b[0m     prediction \u001b[38;5;241m=\u001b[39m model(sipms)\n\u001b[1;32m     20\u001b[0m     loss       \u001b[38;5;241m=\u001b[39m lossf(prediction, image)\n",
      "File \u001b[0;32m/nix/store/kms0fpbbq2w006c97jsi0glzfmcakvq0-python3-3.10.13-env/lib/python3.10/site-packages/torch/utils/data/dataloader.py:633\u001b[0m, in \u001b[0;36m_BaseDataLoaderIter.__next__\u001b[0;34m(self)\u001b[0m\n\u001b[1;32m    630\u001b[0m \u001b[38;5;28;01mif\u001b[39;00m \u001b[38;5;28mself\u001b[39m\u001b[38;5;241m.\u001b[39m_sampler_iter \u001b[38;5;129;01mis\u001b[39;00m \u001b[38;5;28;01mNone\u001b[39;00m:\n\u001b[1;32m    631\u001b[0m     \u001b[38;5;66;03m# TODO(https://github.com/pytorch/pytorch/issues/76750)\u001b[39;00m\n\u001b[1;32m    632\u001b[0m     \u001b[38;5;28mself\u001b[39m\u001b[38;5;241m.\u001b[39m_reset()  \u001b[38;5;66;03m# type: ignore[call-arg]\u001b[39;00m\n\u001b[0;32m--> 633\u001b[0m data \u001b[38;5;241m=\u001b[39m \u001b[38;5;28;43mself\u001b[39;49m\u001b[38;5;241;43m.\u001b[39;49m\u001b[43m_next_data\u001b[49m\u001b[43m(\u001b[49m\u001b[43m)\u001b[49m\n\u001b[1;32m    634\u001b[0m \u001b[38;5;28mself\u001b[39m\u001b[38;5;241m.\u001b[39m_num_yielded \u001b[38;5;241m+\u001b[39m\u001b[38;5;241m=\u001b[39m \u001b[38;5;241m1\u001b[39m\n\u001b[1;32m    635\u001b[0m \u001b[38;5;28;01mif\u001b[39;00m \u001b[38;5;28mself\u001b[39m\u001b[38;5;241m.\u001b[39m_dataset_kind \u001b[38;5;241m==\u001b[39m _DatasetKind\u001b[38;5;241m.\u001b[39mIterable \u001b[38;5;129;01mand\u001b[39;00m \\\n\u001b[1;32m    636\u001b[0m         \u001b[38;5;28mself\u001b[39m\u001b[38;5;241m.\u001b[39m_IterableDataset_len_called \u001b[38;5;129;01mis\u001b[39;00m \u001b[38;5;129;01mnot\u001b[39;00m \u001b[38;5;28;01mNone\u001b[39;00m \u001b[38;5;129;01mand\u001b[39;00m \\\n\u001b[1;32m    637\u001b[0m         \u001b[38;5;28mself\u001b[39m\u001b[38;5;241m.\u001b[39m_num_yielded \u001b[38;5;241m>\u001b[39m \u001b[38;5;28mself\u001b[39m\u001b[38;5;241m.\u001b[39m_IterableDataset_len_called:\n",
      "File \u001b[0;32m/nix/store/kms0fpbbq2w006c97jsi0glzfmcakvq0-python3-3.10.13-env/lib/python3.10/site-packages/torch/utils/data/dataloader.py:677\u001b[0m, in \u001b[0;36m_SingleProcessDataLoaderIter._next_data\u001b[0;34m(self)\u001b[0m\n\u001b[1;32m    675\u001b[0m \u001b[38;5;28;01mdef\u001b[39;00m \u001b[38;5;21m_next_data\u001b[39m(\u001b[38;5;28mself\u001b[39m):\n\u001b[1;32m    676\u001b[0m     index \u001b[38;5;241m=\u001b[39m \u001b[38;5;28mself\u001b[39m\u001b[38;5;241m.\u001b[39m_next_index()  \u001b[38;5;66;03m# may raise StopIteration\u001b[39;00m\n\u001b[0;32m--> 677\u001b[0m     data \u001b[38;5;241m=\u001b[39m \u001b[38;5;28;43mself\u001b[39;49m\u001b[38;5;241;43m.\u001b[39;49m\u001b[43m_dataset_fetcher\u001b[49m\u001b[38;5;241;43m.\u001b[39;49m\u001b[43mfetch\u001b[49m\u001b[43m(\u001b[49m\u001b[43mindex\u001b[49m\u001b[43m)\u001b[49m  \u001b[38;5;66;03m# may raise StopIteration\u001b[39;00m\n\u001b[1;32m    678\u001b[0m     \u001b[38;5;28;01mif\u001b[39;00m \u001b[38;5;28mself\u001b[39m\u001b[38;5;241m.\u001b[39m_pin_memory:\n\u001b[1;32m    679\u001b[0m         data \u001b[38;5;241m=\u001b[39m _utils\u001b[38;5;241m.\u001b[39mpin_memory\u001b[38;5;241m.\u001b[39mpin_memory(data, \u001b[38;5;28mself\u001b[39m\u001b[38;5;241m.\u001b[39m_pin_memory_device)\n",
      "File \u001b[0;32m/nix/store/kms0fpbbq2w006c97jsi0glzfmcakvq0-python3-3.10.13-env/lib/python3.10/site-packages/torch/utils/data/_utils/fetch.py:51\u001b[0m, in \u001b[0;36m_MapDatasetFetcher.fetch\u001b[0;34m(self, possibly_batched_index)\u001b[0m\n\u001b[1;32m     49\u001b[0m         data \u001b[38;5;241m=\u001b[39m \u001b[38;5;28mself\u001b[39m\u001b[38;5;241m.\u001b[39mdataset\u001b[38;5;241m.\u001b[39m__getitems__(possibly_batched_index)\n\u001b[1;32m     50\u001b[0m     \u001b[38;5;28;01melse\u001b[39;00m:\n\u001b[0;32m---> 51\u001b[0m         data \u001b[38;5;241m=\u001b[39m [\u001b[38;5;28mself\u001b[39m\u001b[38;5;241m.\u001b[39mdataset[idx] \u001b[38;5;28;01mfor\u001b[39;00m idx \u001b[38;5;129;01min\u001b[39;00m possibly_batched_index]\n\u001b[1;32m     52\u001b[0m \u001b[38;5;28;01melse\u001b[39;00m:\n\u001b[1;32m     53\u001b[0m     data \u001b[38;5;241m=\u001b[39m \u001b[38;5;28mself\u001b[39m\u001b[38;5;241m.\u001b[39mdataset[possibly_batched_index]\n",
      "File \u001b[0;32m/nix/store/kms0fpbbq2w006c97jsi0glzfmcakvq0-python3-3.10.13-env/lib/python3.10/site-packages/torch/utils/data/_utils/fetch.py:51\u001b[0m, in \u001b[0;36m<listcomp>\u001b[0;34m(.0)\u001b[0m\n\u001b[1;32m     49\u001b[0m         data \u001b[38;5;241m=\u001b[39m \u001b[38;5;28mself\u001b[39m\u001b[38;5;241m.\u001b[39mdataset\u001b[38;5;241m.\u001b[39m__getitems__(possibly_batched_index)\n\u001b[1;32m     50\u001b[0m     \u001b[38;5;28;01melse\u001b[39;00m:\n\u001b[0;32m---> 51\u001b[0m         data \u001b[38;5;241m=\u001b[39m [\u001b[38;5;28;43mself\u001b[39;49m\u001b[38;5;241;43m.\u001b[39;49m\u001b[43mdataset\u001b[49m\u001b[43m[\u001b[49m\u001b[43midx\u001b[49m\u001b[43m]\u001b[49m \u001b[38;5;28;01mfor\u001b[39;00m idx \u001b[38;5;129;01min\u001b[39;00m possibly_batched_index]\n\u001b[1;32m     52\u001b[0m \u001b[38;5;28;01melse\u001b[39;00m:\n\u001b[1;32m     53\u001b[0m     data \u001b[38;5;241m=\u001b[39m \u001b[38;5;28mself\u001b[39m\u001b[38;5;241m.\u001b[39mdataset[possibly_batched_index]\n",
      "File \u001b[0;32m/nix/store/kms0fpbbq2w006c97jsi0glzfmcakvq0-python3-3.10.13-env/lib/python3.10/site-packages/torch/utils/data/dataset.py:298\u001b[0m, in \u001b[0;36mSubset.__getitem__\u001b[0;34m(self, idx)\u001b[0m\n\u001b[1;32m    296\u001b[0m \u001b[38;5;28;01mif\u001b[39;00m \u001b[38;5;28misinstance\u001b[39m(idx, \u001b[38;5;28mlist\u001b[39m):\n\u001b[1;32m    297\u001b[0m     \u001b[38;5;28;01mreturn\u001b[39;00m \u001b[38;5;28mself\u001b[39m\u001b[38;5;241m.\u001b[39mdataset[[\u001b[38;5;28mself\u001b[39m\u001b[38;5;241m.\u001b[39mindices[i] \u001b[38;5;28;01mfor\u001b[39;00m i \u001b[38;5;129;01min\u001b[39;00m idx]]\n\u001b[0;32m--> 298\u001b[0m \u001b[38;5;28;01mreturn\u001b[39;00m \u001b[38;5;28;43mself\u001b[39;49m\u001b[38;5;241;43m.\u001b[39;49m\u001b[43mdataset\u001b[49m\u001b[43m[\u001b[49m\u001b[38;5;28;43mself\u001b[39;49m\u001b[38;5;241;43m.\u001b[39;49m\u001b[43mindices\u001b[49m\u001b[43m[\u001b[49m\u001b[43midx\u001b[49m\u001b[43m]\u001b[49m\u001b[43m]\u001b[49m\n",
      "Cell \u001b[0;32mIn[66], line 6\u001b[0m, in \u001b[0;36mDS.__getitem__\u001b[0;34m(self, i)\u001b[0m\n\u001b[1;32m      5\u001b[0m \u001b[38;5;28;01mdef\u001b[39;00m \u001b[38;5;21m__getitem__\u001b[39m(\u001b[38;5;28mself\u001b[39m, i):\n\u001b[0;32m----> 6\u001b[0m     \u001b[38;5;28;01mreturn\u001b[39;00m \u001b[43mgenerate_event\u001b[49m\u001b[43m(\u001b[49m\u001b[43m)\u001b[49m\n",
      "Cell \u001b[0;32mIn[32], line 16\u001b[0m, in \u001b[0;36mgenerate_event\u001b[0;34m(*args, **kwargs)\u001b[0m\n\u001b[1;32m     15\u001b[0m \u001b[38;5;28;01mdef\u001b[39;00m \u001b[38;5;21mgenerate_event\u001b[39m(\u001b[38;5;241m*\u001b[39margs, \u001b[38;5;241m*\u001b[39m\u001b[38;5;241m*\u001b[39mkwargs):\n\u001b[0;32m---> 16\u001b[0m     x, y \u001b[38;5;241m=\u001b[39m \u001b[43mgenerate_flash\u001b[49m\u001b[43m(\u001b[49m\u001b[38;5;241;43m*\u001b[39;49m\u001b[43margs\u001b[49m\u001b[43m,\u001b[49m\u001b[43m \u001b[49m\u001b[38;5;241;43m*\u001b[39;49m\u001b[38;5;241;43m*\u001b[39;49m\u001b[43mkwargs\u001b[49m\u001b[43m)\u001b[49m\n\u001b[1;32m     17\u001b[0m     \u001b[38;5;28;01mreturn\u001b[39;00m generate_image(x, y)\n",
      "Cell \u001b[0;32mIn[32], line 4\u001b[0m, in \u001b[0;36mgenerate_flash\u001b[0;34m(x0, y0, z0, n)\u001b[0m\n\u001b[1;32m      2\u001b[0m costheta \u001b[38;5;241m=\u001b[39m np\u001b[38;5;241m.\u001b[39mrandom\u001b[38;5;241m.\u001b[39muniform(\u001b[38;5;241m0\u001b[39m,       \u001b[38;5;241m1\u001b[39m, size\u001b[38;5;241m=\u001b[39mn)\n\u001b[1;32m      3\u001b[0m phi      \u001b[38;5;241m=\u001b[39m np\u001b[38;5;241m.\u001b[39mrandom\u001b[38;5;241m.\u001b[39muniform(\u001b[38;5;241m0\u001b[39m, \u001b[38;5;241m2\u001b[39m\u001b[38;5;241m*\u001b[39mnp\u001b[38;5;241m.\u001b[39mpi, size\u001b[38;5;241m=\u001b[39mn)\n\u001b[0;32m----> 4\u001b[0m x        \u001b[38;5;241m=\u001b[39m z0 \u001b[38;5;241m*\u001b[39m (costheta\u001b[38;5;241m*\u001b[39m\u001b[38;5;241m*\u001b[39m\u001b[38;5;241m-\u001b[39m\u001b[38;5;241m2\u001b[39m\u001b[38;5;241m-\u001b[39m\u001b[38;5;241m1\u001b[39m)\u001b[38;5;241m*\u001b[39m\u001b[38;5;241m*\u001b[39m\u001b[38;5;241m0.5\u001b[39m \u001b[38;5;241m*\u001b[39m \u001b[43mnp\u001b[49m\u001b[38;5;241;43m.\u001b[39;49m\u001b[43mcos\u001b[49m\u001b[43m(\u001b[49m\u001b[43mphi\u001b[49m\u001b[43m)\u001b[49m\n\u001b[1;32m      5\u001b[0m y        \u001b[38;5;241m=\u001b[39m x  \u001b[38;5;241m*\u001b[39m np\u001b[38;5;241m.\u001b[39mtan(phi)\n\u001b[1;32m      6\u001b[0m x \u001b[38;5;241m+\u001b[39m\u001b[38;5;241m=\u001b[39m x0\n",
      "\u001b[0;31mKeyboardInterrupt\u001b[0m: "
     ]
    }
   ],
   "source": [
    "#########################################################################\n",
    "# training\n",
    "\n",
    "#torch.manual_seed(args.seed)\n",
    "\n",
    "print(\"seed =\", torch.initial_seed())\n",
    "lr          = 1e-3\n",
    "nepochs     = 20\n",
    "model       = NN_v1()\n",
    "lossf       = nn.MSELoss()\n",
    "optimizer   = optim.Adam(model.parameters(), lr=lr)\n",
    "losses      = defaultdict(list)\n",
    "\n",
    "for epoch in range(1, 1+nepochs):\n",
    "    t0 = time()\n",
    "    model.train() # inform the model that we are training\n",
    "    optimizer.zero_grad()\n",
    "    for i, (image, sipms) in enumerate(loader_train, start=1):\n",
    "        prediction = model(sipms)\n",
    "        loss       = lossf(prediction, image)\n",
    "        loss     .backward()\n",
    "        optimizer.step()\n",
    "\n",
    "        losses[epoch].append(loss.data.item())\n",
    "\n",
    "    validation_loss = []\n",
    "    with torch.no_grad():\n",
    "        model.eval() # tell the model that we are evaluating\n",
    "        for i, (image, sipms) in enumerate(loader_valid, start=1):\n",
    "            prediction = model(sipms)\n",
    "            loss       = lossf(prediction, image)\n",
    "            validation_loss.append(loss.data.item())\n",
    "\n",
    "    dt = time() - t0\n",
    "    print(f\"Epoch [{epoch}/{nepochs}], Loss: {losses[epoch][-1]:.4f}, Val loss: {np.mean(validation_loss):.1f}, LR: {lr : .4f} DT : {dt:.1f}\")"
   ]
  },
  {
   "cell_type": "code",
   "execution_count": null,
   "id": "c4cf6e60",
   "metadata": {
    "ExecuteTime": {
     "end_time": "2024-03-24T14:44:58.735118Z",
     "start_time": "2024-03-24T14:44:58.735089Z"
    }
   },
   "outputs": [],
   "source": [
    "#########################################################################\n",
    "# testing\n",
    "\n",
    "plt.figure()\n",
    "for ie, ep in sorted(losses.items()):\n",
    "    plt.plot(np.arange(len(ep))+ie*len(ep), ep)\n",
    "\n",
    "plt.savefig(args.output_folder / \"loss.png\")\n",
    "\n",
    "\n",
    "dxs, dys, dps, ps = [[] for i in range(4)]\n",
    "with torch.no_grad():\n",
    "    model.eval()\n",
    "    for pos, response in loader_test:\n",
    "        predicted = model(response)\n",
    "        dx, dy    = (predicted - pos).numpy().T\n",
    "        dxs.extend(dx)\n",
    "        dys.extend(dy)\n",
    "        dps.extend((dx**2 + dy**2)**0.5)\n",
    "        ps.extend((pos**2).sum(axis=1)**0.5)\n",
    "\n",
    "bins_dxy = np.linspace(-2, 2, 101)\n",
    "bins_dr  = np.linspace( 0, 2, 101)\n",
    "normhist = lambda x, b: plt.hist(x, b, weights=np.full(len(x), 100/len(x)))\n",
    "\n",
    "plt.figure(figsize=(16, 12))\n",
    "plt.subplot(2, 2, 1); normhist(dxs, bins_dxy); plt.xlabel(\"dx (mm)\"); plt.ylabel(\"Fraction of events (%)\")\n",
    "plt.subplot(2, 2, 2); normhist(dys, bins_dxy); plt.xlabel(\"dy (mm)\"); plt.ylabel(\"Fraction of events (%)\")\n",
    "plt.subplot(2, 2, 3); normhist(dps, bins_dr ); plt.xlabel(r\"d$\\rho$ (mm)\"); plt.ylabel(\"Fraction of events (%)\")\n",
    "plt.subplot(2, 2, 4); plt.hist2d(dxs, dys, (bins_dxy,)*2, cmin=1); plt.xlabel(\"x (mm)\"); plt.ylabel(\"y (mm)\")\n",
    "\n",
    "plt.tight_layout()\n",
    "plt.savefig(args.output_folder / \"deltas.png\")\n",
    "\n",
    "plt.figure()\n",
    "bins_r = np.linspace(0, bins_dxy.max(), 101)\n",
    "plt.hist2d(ps, dps, (bins_r, bins_dr), cmin=1)\n",
    "plt.xlabel(r\"$\\rho$ (mm)\")\n",
    "plt.ylabel(r\"d$\\rho$ (mm)\")\n",
    "plt.savefig(args.output_folder / \"deltap_p.png\")\n",
    "\n",
    "\n",
    "torch.save(model, args.output_folder / \"model.nn\")"
   ]
  },
  {
   "cell_type": "code",
   "execution_count": null,
   "id": "628b4d7a",
   "metadata": {},
   "outputs": [],
   "source": []
  }
 ],
 "metadata": {
  "kernelspec": {
   "display_name": "Python 3 (ipykernel)",
   "language": "python",
   "name": "python3"
  },
  "language_info": {
   "codemirror_mode": {
    "name": "ipython",
    "version": 3
   },
   "file_extension": ".py",
   "mimetype": "text/x-python",
   "name": "python",
   "nbconvert_exporter": "python",
   "pygments_lexer": "ipython3",
   "version": "3.10.13"
  },
  "toc": {
   "base_numbering": 1,
   "nav_menu": {},
   "number_sections": true,
   "sideBar": true,
   "skip_h1_title": false,
   "title_cell": "Table of Contents",
   "title_sidebar": "Contents",
   "toc_cell": false,
   "toc_position": {},
   "toc_section_display": true,
   "toc_window_display": false
  }
 },
 "nbformat": 4,
 "nbformat_minor": 5
}
